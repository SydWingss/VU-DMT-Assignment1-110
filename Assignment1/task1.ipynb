{
 "cells": [
  {
   "cell_type": "markdown",
   "metadata": {},
   "source": []
  },
  {
   "cell_type": "code",
   "execution_count": 1,
   "metadata": {},
   "outputs": [],
   "source": [
    "import pandas as pd\n",
    "import numpy as np\n",
    "import DMT_Clean_Data as cldata\n",
    "import os"
   ]
  },
  {
   "cell_type": "markdown",
   "metadata": {},
   "source": [
    "分割数据:按id分割，按variable分割，便于后续绘图观察数据分布和其中的极端值"
   ]
  },
  {
   "cell_type": "code",
   "execution_count": null,
   "metadata": {},
   "outputs": [],
   "source": [
    "\n",
    "df = pd.read_csv('dataset_mood_smartphone.csv')\n",
    "df.drop(df.columns[0], axis=1, inplace=True)\n",
    "cldata.divide_by_variable(df)"
   ]
  },
  {
   "cell_type": "markdown",
   "metadata": {},
   "source": [
    "数据清洗，更正其中的错误"
   ]
  },
  {
   "cell_type": "code",
   "execution_count": 5,
   "metadata": {},
   "outputs": [],
   "source": [
    "data=pd.read_csv('../Assignment1//dataset_mood_smartphone.csv')\n",
    "data.set_index(data.columns[0],inplace=True)\n",
    "data.reset_index(inplace=True)\n",
    "data.index += 1\n",
    "data_schema = pd.read_json(\"../Assignment1//threshold.json\")"
   ]
  },
  {
   "cell_type": "code",
   "execution_count": null,
   "metadata": {},
   "outputs": [],
   "source": [
    "cldata.trans_to_sparse_matrix(df)\n",
    "df=pd.read_csv(os.getcwd()+'\\\\sparse_matrix\\\\sparse_matrix_data.csv')\n",
    "cldata.divide_by_id(df)\n",
    "cldata.time_resampling(df)"
   ]
  },
  {
   "cell_type": "markdown",
   "metadata": {},
   "source": [
    "检查和清洗"
   ]
  },
  {
   "cell_type": "code",
   "execution_count": 3,
   "metadata": {},
   "outputs": [],
   "source": [
    "\n",
    "df=pd.read_csv(\"cleaned_dataset_mood_smartphone.csv\")\n",
    "# Define the boundaries for low, medium and high mood\n",
    "cldata.trans_to_sparse_matrix(df)\n",
    "df=pd.read_csv(os.getcwd()+\"\\\\sparse_matrix\\\\sparse_matrix_data.csv\")\n",
    "cldata.time_resampling(df)\n",
    "df=pd.read_csv(os.getcwd()+\"\\\\time_resampling\\\\time_resamping_sparse_matrix_data.csv\")\n",
    "cldata.add_mood_level(df)"
   ]
  },
  {
   "cell_type": "code",
   "execution_count": 2,
   "metadata": {},
   "outputs": [],
   "source": [
    "df=pd.read_csv(os.getcwd()+\"\\\\time_resampling\\\\time_resamping_sparse_matrix_data.csv\")\n",
    "cldata.fill_default_value_and_add_mood_level(df)"
   ]
  }
 ],
 "metadata": {
  "kernelspec": {
   "display_name": "Env1",
   "language": "python",
   "name": "python3"
  },
  "language_info": {
   "codemirror_mode": {
    "name": "ipython",
    "version": 3
   },
   "file_extension": ".py",
   "mimetype": "text/x-python",
   "name": "python",
   "nbconvert_exporter": "python",
   "pygments_lexer": "ipython3",
   "version": "3.10.13"
  }
 },
 "nbformat": 4,
 "nbformat_minor": 2
}
