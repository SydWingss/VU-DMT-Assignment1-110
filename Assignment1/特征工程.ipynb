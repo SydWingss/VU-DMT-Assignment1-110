{
 "cells": [
  {
   "cell_type": "code",
   "execution_count": 1,
   "metadata": {},
   "outputs": [],
   "source": [
    "# import torch\n",
    "import pandas as pd\n",
    "import numpy as np\n",
    "import os, sys, time, random, argparse, tqdm\n",
    "from sklearn.preprocessing import MinMaxScaler"
   ]
  },
  {
   "cell_type": "code",
   "execution_count": 3,
   "metadata": {},
   "outputs": [],
   "source": [
    "# 读取CSV文件\n",
    "df = pd.read_csv('time_resampling/time_resamping_sparse_matrix_data.csv')\n",
    "\n",
    "# 将'time'列转换为datetime类型\n",
    "df['time'] = pd.to_datetime(df['time'])\n",
    "\n",
    "# 将'time'列设置为索引\n",
    "df.set_index('time', inplace=True)\n",
    "\n",
    "# 创建一个新的DataFrame来保存结果\n",
    "df_filled = pd.DataFrame()\n",
    "\n",
    "# 定义要进行滚动窗口计算的列\n",
    "columns = ['mood', 'circumplex.arousal', 'circumplex.valence', 'activity', 'screen', 'appCat.builtin', 'appCat.communication', 'appCat.entertainment', 'appCat.finance', 'appCat.game', 'appCat.office', 'appCat.other', 'appCat.social', 'appCat.travel', 'appCat.unknown', 'appCat.utilities', 'appCat.weather']\n",
    "onehot_culumns = ['call', 'sms']\n",
    "\n",
    "# 创建一个MinMaxScaler对象\n",
    "scaler = MinMaxScaler()\n",
    "\n",
    "# 对每个唯一的id进行分组\n",
    "for id, group in df.groupby('id'):\n",
    "    # 对指定的列进行滚动窗口计算（例如，过去5天）\n",
    "    group_rolling = group[columns].rolling('5D').mean()\n",
    "\n",
    "    # 使用滚动窗口计算的结果填充NaN值\n",
    "    group_filled = group[columns].where(group[columns].notna(), group_rolling)\n",
    "\n",
    "    # 如果还有NaN值，使用该id的所有数据的平均值来填充\n",
    "    group_filled.fillna(group[columns].mean(), inplace=True)\n",
    "\n",
    "    # 对'call'和'sms'列中的NaN值填充为0\n",
    "    group_filled[onehot_culumns] = group[onehot_culumns]\n",
    "    group_filled[onehot_culumns] = group_filled[onehot_culumns].fillna(0)\n",
    "\n",
    "    # 对'call'和'sms'列进行独热编码\n",
    "    group_filled = pd.get_dummies(group_filled, columns=onehot_culumns)\n",
    "\n",
    "    # 对指定的列进行归一化，如果该列全为NaN，则将其中的nan值填充为0\n",
    "    for column in columns:\n",
    "        if not group_filled[column].isnull().all():\n",
    "            group_filled[[column]] = scaler.fit_transform(group_filled[[column]])\n",
    "        else:\n",
    "            group_filled[column] = 0\n",
    "\n",
    "    # 重置索引，将'time'列变为普通列\n",
    "    group_filled.reset_index(inplace=True)\n",
    "    \n",
    "    # 将'id'列添加到组中，并将其设置为索引\n",
    "    group_filled['id'] = id\n",
    "    group_filled.set_index('id', inplace=True)\n",
    "    \n",
    "    # 将处理过的组添加到结果DataFrame中\n",
    "    df_filled = pd.concat([df_filled, group_filled])"
   ]
  },
  {
   "cell_type": "code",
   "execution_count": 4,
   "metadata": {},
   "outputs": [],
   "source": [
    "# 保存结果到新的CSV文件\n",
    "df_filled.to_csv('time_resampling/featured_time_resamping_sparse_matrix_data.csv')"
   ]
  }
 ],
 "metadata": {
  "kernelspec": {
   "display_name": "Python 3",
   "language": "python",
   "name": "python3"
  },
  "language_info": {
   "codemirror_mode": {
    "name": "ipython",
    "version": 3
   },
   "file_extension": ".py",
   "mimetype": "text/x-python",
   "name": "python",
   "nbconvert_exporter": "python",
   "pygments_lexer": "ipython3",
   "version": "3.10.13"
  }
 },
 "nbformat": 4,
 "nbformat_minor": 2
}
