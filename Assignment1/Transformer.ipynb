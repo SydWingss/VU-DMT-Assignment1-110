{
 "cells": [
  {
   "cell_type": "code",
   "execution_count": 1,
   "metadata": {},
   "outputs": [],
   "source": [
    "import pandas as pd\n",
    "import numpy as np\n",
    "import torch\n",
    "from torch import nn\n",
    "from torch.utils.data import Dataset, DataLoader\n",
    "from sklearn.model_selection import train_test_split\n",
    "from torch.optim import AdamW\n",
    "from rich.progress import Progress"
   ]
  },
  {
   "cell_type": "code",
   "execution_count": 2,
   "metadata": {},
   "outputs": [],
   "source": [
    "# Define dataset\n",
    "class MoodDataset(Dataset):\n",
    "    def __init__(self, features_1, features_2, labels):\n",
    "        self.features_1 = features_1\n",
    "        self.features_2 = features_2\n",
    "        self.labels = labels\n",
    "\n",
    "    def __len__(self):\n",
    "        return len(self.labels)\n",
    "\n",
    "    def __getitem__(self, idx):\n",
    "        # Convert features and labels to tensors\n",
    "        features_1 = torch.from_numpy(self.features_1[idx]).float()\n",
    "        features_2 = torch.from_numpy(self.features_2[idx]).float()\n",
    "        labels = torch.from_numpy(np.array(self.labels[idx])).float()\n",
    "        return features_1, features_2, labels"
   ]
  },
  {
   "cell_type": "code",
   "execution_count": 3,
   "metadata": {},
   "outputs": [],
   "source": [
    "# Define model\n",
    "class TransformerModel(nn.Module):\n",
    "    def __init__(self):\n",
    "        super(TransformerModel, self).__init__()\n",
    "        self.transformer = nn.Transformer(d_model=21, nhead=1)\n",
    "        self.fc = nn.Linear(21, 1)\n",
    "\n",
    "    def forward(self, src, tgt):\n",
    "        x = self.transformer(src, tgt)\n",
    "        x = self.fc(x)\n",
    "        return x"
   ]
  },
  {
   "cell_type": "code",
   "execution_count": 4,
   "metadata": {},
   "outputs": [],
   "source": [
    "# Load data\n",
    "df = pd.read_csv('time_resampling/featured_time_resamping_sparse_matrix_data.csv')\n",
    "\n",
    "# Group by id\n",
    "grouped = df.groupby('id')\n",
    "\n",
    "# Data preparation\n",
    "features_1, features_2, labels = pd.DataFrame(), pd.DataFrame(), pd.DataFrame()\n",
    "for name, group in grouped:\n",
    "    feature_1 = group.drop(['id', 'time'], axis=1)\n",
    "    feature_2 = group.drop(['id', 'time'], axis=1)\n",
    "    label = group['mood']\n",
    "\n",
    "    feature_1 = feature_1.iloc[:-1].reset_index(drop=True)\n",
    "    feature_2 = feature_2.iloc[1:].reset_index(drop=True)\n",
    "    label = label.iloc[1:].reset_index(drop=True)\n",
    "    \n",
    "    features_1 = pd.concat([features_1, feature_1])\n",
    "    features_2 = pd.concat([features_2, feature_2])\n",
    "    labels = pd.concat([labels, label])\n",
    "\n",
    "# Split into training and test sets\n",
    "train_features_1, test_features_1, train_features_2, test_features_2, train_labels, test_labels = train_test_split(features_1.values, features_2.values, labels.values, test_size=0.2, shuffle=False)\n",
    "train_features_1, test_features_1, train_features_2, test_features_2, train_labels, test_labels = train_features_1.astype(np.float32), test_features_1.astype(np.float32), train_features_2.astype(np.float32), test_features_2.astype(np.float32), train_labels.astype(np.float32), test_labels.astype(np.float32)\n",
    "\n",
    "# Standardize features\n",
    "# scaler = StandardScaler()\n",
    "# train_features = scaler.fit_transform(train_features)\n",
    "# test_features = scaler.transform(test_features)\n",
    "\n",
    "# Create data loaders\n",
    "train_dataset = MoodDataset(train_features_1, train_features_2, train_labels)\n",
    "test_dataset = MoodDataset(test_features_1, test_features_2, test_labels)\n",
    "train_loader = DataLoader(train_dataset, batch_size=32, shuffle=False)\n",
    "test_loader = DataLoader(test_dataset, batch_size=32, shuffle=False)"
   ]
  },
  {
   "cell_type": "code",
   "execution_count": 5,
   "metadata": {},
   "outputs": [],
   "source": [
    "# Check if GPU is available\n",
    "device = torch.device(\"cuda\" if torch.cuda.is_available() else \"cpu\")"
   ]
  },
  {
   "cell_type": "code",
   "execution_count": 6,
   "metadata": {},
   "outputs": [
    {
     "name": "stderr",
     "output_type": "stream",
     "text": [
      "/home/loong/miniconda3/envs/PyTorch/lib/python3.10/site-packages/torch/nn/modules/transformer.py:306: UserWarning: enable_nested_tensor is True, but self.use_nested_tensor is False because encoder_layer.self_attn.batch_first was not True(use batch_first for better inference performance)\n",
      "  warnings.warn(f\"enable_nested_tensor is True, but self.use_nested_tensor is False because {why_not_sparsity_fast_path}\")\n"
     ]
    }
   ],
   "source": [
    "# Initialize model, optimizer and loss function\n",
    "model = TransformerModel().to(device)\n",
    "optimizer = AdamW(model.parameters(), lr=0.00001)\n",
    "criterion = nn.MSELoss()"
   ]
  },
  {
   "cell_type": "code",
   "execution_count": 7,
   "metadata": {},
   "outputs": [
    {
     "data": {
      "application/vnd.jupyter.widget-view+json": {
       "model_id": "e56afc6be2e0447da73cf0bff9883e02",
       "version_major": 2,
       "version_minor": 0
      },
      "text/plain": [
       "Output()"
      ]
     },
     "metadata": {},
     "output_type": "display_data"
    },
    {
     "data": {
      "text/html": [
       "<pre style=\"white-space:pre;overflow-x:auto;line-height:normal;font-family:Menlo,'DejaVu Sans Mono',consolas,'Courier New',monospace\">/home/loong/miniconda3/envs/PyTorch/lib/python3.10/site-packages/torch/nn/functional.py:5527: UserWarning: 1Torch \n",
       "was not compiled with memory efficient attention. (Triggered internally at \n",
       "../aten/src/ATen/native/transformers/hip/sdp_utils.cpp:505.)\n",
       "  attn_output = scaled_dot_product_attention(q, k, v, attn_mask, dropout_p, is_causal)\n",
       "</pre>\n"
      ],
      "text/plain": [
       "/home/loong/miniconda3/envs/PyTorch/lib/python3.10/site-packages/torch/nn/functional.py:5527: UserWarning: 1Torch \n",
       "was not compiled with memory efficient attention. (Triggered internally at \n",
       "../aten/src/ATen/native/transformers/hip/sdp_utils.cpp:505.)\n",
       "  attn_output = scaled_dot_product_attention(q, k, v, attn_mask, dropout_p, is_causal)\n"
      ]
     },
     "metadata": {},
     "output_type": "display_data"
    },
    {
     "data": {
      "text/html": [
       "<pre style=\"white-space:pre;overflow-x:auto;line-height:normal;font-family:Menlo,'DejaVu Sans Mono',consolas,'Courier New',monospace\">Epoch 1: Loss = 0.005962874307825522, Accuracy = 0.22516166960611406\n",
       "</pre>\n"
      ],
      "text/plain": [
       "Epoch 1: Loss = 0.005962874307825522, Accuracy = 0.22516166960611406\n"
      ]
     },
     "metadata": {},
     "output_type": "display_data"
    },
    {
     "data": {
      "text/html": [
       "<pre style=\"white-space:pre;overflow-x:auto;line-height:normal;font-family:Menlo,'DejaVu Sans Mono',consolas,'Courier New',monospace\">Epoch 2: Loss = 0.0024467922981471473, Accuracy = 0.2727807172251617\n",
       "</pre>\n"
      ],
      "text/plain": [
       "Epoch 2: Loss = 0.0024467922981471473, Accuracy = 0.2727807172251617\n"
      ]
     },
     "metadata": {},
     "output_type": "display_data"
    },
    {
     "data": {
      "text/html": [
       "<pre style=\"white-space:pre;overflow-x:auto;line-height:normal;font-family:Menlo,'DejaVu Sans Mono',consolas,'Courier New',monospace\">Epoch 3: Loss = 0.002086218052282535, Accuracy = 0.3115814226925338\n",
       "</pre>\n"
      ],
      "text/plain": [
       "Epoch 3: Loss = 0.002086218052282535, Accuracy = 0.3115814226925338\n"
      ]
     },
     "metadata": {},
     "output_type": "display_data"
    },
    {
     "data": {
      "text/html": [
       "<pre style=\"white-space:pre;overflow-x:auto;line-height:normal;font-family:Menlo,'DejaVu Sans Mono',consolas,'Courier New',monospace\">Epoch 4: Loss = 0.002008552280041679, Accuracy = 0.32510288065843623\n",
       "</pre>\n"
      ],
      "text/plain": [
       "Epoch 4: Loss = 0.002008552280041679, Accuracy = 0.32510288065843623\n"
      ]
     },
     "metadata": {},
     "output_type": "display_data"
    },
    {
     "data": {
      "text/html": [
       "<pre style=\"white-space:pre;overflow-x:auto;line-height:normal;font-family:Menlo,'DejaVu Sans Mono',consolas,'Courier New',monospace\">Epoch 5: Loss = 0.0018318751219141, Accuracy = 0.35390946502057613\n",
       "</pre>\n"
      ],
      "text/plain": [
       "Epoch 5: Loss = 0.0018318751219141, Accuracy = 0.35390946502057613\n"
      ]
     },
     "metadata": {},
     "output_type": "display_data"
    },
    {
     "data": {
      "text/html": [
       "<pre style=\"white-space:pre;overflow-x:auto;line-height:normal;font-family:Menlo,'DejaVu Sans Mono',consolas,'Courier New',monospace\">Epoch 6: Loss = 0.0017267257223745642, Accuracy = 0.3733098177542622\n",
       "</pre>\n"
      ],
      "text/plain": [
       "Epoch 6: Loss = 0.0017267257223745642, Accuracy = 0.3733098177542622\n"
      ]
     },
     "metadata": {},
     "output_type": "display_data"
    },
    {
     "data": {
      "text/html": [
       "<pre style=\"white-space:pre;overflow-x:auto;line-height:normal;font-family:Menlo,'DejaVu Sans Mono',consolas,'Courier New',monospace\">Epoch 7: Loss = 0.0017418527859605318, Accuracy = 0.35038212815990594\n",
       "</pre>\n"
      ],
      "text/plain": [
       "Epoch 7: Loss = 0.0017418527859605318, Accuracy = 0.35038212815990594\n"
      ]
     },
     "metadata": {},
     "output_type": "display_data"
    },
    {
     "data": {
      "text/html": [
       "<pre style=\"white-space:pre;overflow-x:auto;line-height:normal;font-family:Menlo,'DejaVu Sans Mono',consolas,'Courier New',monospace\">Epoch 8: Loss = 0.0015544403839346103, Accuracy = 0.37566137566137564\n",
       "</pre>\n"
      ],
      "text/plain": [
       "Epoch 8: Loss = 0.0015544403839346103, Accuracy = 0.37566137566137564\n"
      ]
     },
     "metadata": {},
     "output_type": "display_data"
    },
    {
     "data": {
      "text/html": [
       "<pre style=\"white-space:pre;overflow-x:auto;line-height:normal;font-family:Menlo,'DejaVu Sans Mono',consolas,'Courier New',monospace\">Epoch 9: Loss = 0.0016231049911098786, Accuracy = 0.37801293356848914\n",
       "</pre>\n"
      ],
      "text/plain": [
       "Epoch 9: Loss = 0.0016231049911098786, Accuracy = 0.37801293356848914\n"
      ]
     },
     "metadata": {},
     "output_type": "display_data"
    },
    {
     "data": {
      "text/html": [
       "<pre style=\"white-space:pre;overflow-x:auto;line-height:normal;font-family:Menlo,'DejaVu Sans Mono',consolas,'Courier New',monospace\">Epoch 10: Loss = 0.0015706244616855215, Accuracy = 0.3897707231040564\n",
       "</pre>\n"
      ],
      "text/plain": [
       "Epoch 10: Loss = 0.0015706244616855215, Accuracy = 0.3897707231040564\n"
      ]
     },
     "metadata": {},
     "output_type": "display_data"
    },
    {
     "data": {
      "text/html": [
       "<pre style=\"white-space:pre;overflow-x:auto;line-height:normal;font-family:Menlo,'DejaVu Sans Mono',consolas,'Courier New',monospace\">Epoch 11: Loss = 0.0015305149618608505, Accuracy = 0.37801293356848914\n",
       "</pre>\n"
      ],
      "text/plain": [
       "Epoch 11: Loss = 0.0015305149618608505, Accuracy = 0.37801293356848914\n"
      ]
     },
     "metadata": {},
     "output_type": "display_data"
    },
    {
     "data": {
      "text/html": [
       "<pre style=\"white-space:pre;overflow-x:auto;line-height:normal;font-family:Menlo,'DejaVu Sans Mono',consolas,'Courier New',monospace\">Epoch 12: Loss = 0.0014563456811733557, Accuracy = 0.41034685479129923\n",
       "</pre>\n"
      ],
      "text/plain": [
       "Epoch 12: Loss = 0.0014563456811733557, Accuracy = 0.41034685479129923\n"
      ]
     },
     "metadata": {},
     "output_type": "display_data"
    },
    {
     "data": {
      "text/html": [
       "<pre style=\"white-space:pre;overflow-x:auto;line-height:normal;font-family:Menlo,'DejaVu Sans Mono',consolas,'Courier New',monospace\">Epoch 13: Loss = 0.0014620079833582735, Accuracy = 0.393885949441505\n",
       "</pre>\n"
      ],
      "text/plain": [
       "Epoch 13: Loss = 0.0014620079833582735, Accuracy = 0.393885949441505\n"
      ]
     },
     "metadata": {},
     "output_type": "display_data"
    },
    {
     "data": {
      "text/html": [
       "<pre style=\"white-space:pre;overflow-x:auto;line-height:normal;font-family:Menlo,'DejaVu Sans Mono',consolas,'Courier New',monospace\">Epoch 14: Loss = 0.0013648423342705474, Accuracy = 0.43268665490887714\n",
       "</pre>\n"
      ],
      "text/plain": [
       "Epoch 14: Loss = 0.0013648423342705474, Accuracy = 0.43268665490887714\n"
      ]
     },
     "metadata": {},
     "output_type": "display_data"
    },
    {
     "data": {
      "text/html": [
       "<pre style=\"white-space:pre;overflow-x:auto;line-height:normal;font-family:Menlo,'DejaVu Sans Mono',consolas,'Courier New',monospace\">Epoch 15: Loss = 0.001419393792485644, Accuracy = 0.40329218106995884\n",
       "</pre>\n"
      ],
      "text/plain": [
       "Epoch 15: Loss = 0.001419393792485644, Accuracy = 0.40329218106995884\n"
      ]
     },
     "metadata": {},
     "output_type": "display_data"
    },
    {
     "data": {
      "text/html": [
       "<pre style=\"white-space:pre;overflow-x:auto;line-height:normal;font-family:Menlo,'DejaVu Sans Mono',consolas,'Courier New',monospace\">Epoch 16: Loss = 0.001322384246968298, Accuracy = 0.4262198706643151\n",
       "</pre>\n"
      ],
      "text/plain": [
       "Epoch 16: Loss = 0.001322384246968298, Accuracy = 0.4262198706643151\n"
      ]
     },
     "metadata": {},
     "output_type": "display_data"
    },
    {
     "data": {
      "text/html": [
       "<pre style=\"white-space:pre;overflow-x:auto;line-height:normal;font-family:Menlo,'DejaVu Sans Mono',consolas,'Courier New',monospace\">Epoch 17: Loss = 0.0013840495833775564, Accuracy = 0.4009406231628454\n",
       "</pre>\n"
      ],
      "text/plain": [
       "Epoch 17: Loss = 0.0013840495833775564, Accuracy = 0.4009406231628454\n"
      ]
     },
     "metadata": {},
     "output_type": "display_data"
    },
    {
     "data": {
      "text/html": [
       "<pre style=\"white-space:pre;overflow-x:auto;line-height:normal;font-family:Menlo,'DejaVu Sans Mono',consolas,'Courier New',monospace\">Epoch 18: Loss = 0.0013684261111714501, Accuracy = 0.411522633744856\n",
       "</pre>\n"
      ],
      "text/plain": [
       "Epoch 18: Loss = 0.0013684261111714501, Accuracy = 0.411522633744856\n"
      ]
     },
     "metadata": {},
     "output_type": "display_data"
    },
    {
     "data": {
      "text/html": [
       "<pre style=\"white-space:pre;overflow-x:auto;line-height:normal;font-family:Menlo,'DejaVu Sans Mono',consolas,'Courier New',monospace\">Epoch 19: Loss = 0.0013298255789462152, Accuracy = 0.4144620811287478\n",
       "</pre>\n"
      ],
      "text/plain": [
       "Epoch 19: Loss = 0.0013298255789462152, Accuracy = 0.4144620811287478\n"
      ]
     },
     "metadata": {},
     "output_type": "display_data"
    },
    {
     "data": {
      "text/html": [
       "<pre style=\"white-space:pre;overflow-x:auto;line-height:normal;font-family:Menlo,'DejaVu Sans Mono',consolas,'Courier New',monospace\">Epoch 20: Loss = 0.0013515371328295328, Accuracy = 0.42034097589653147\n",
       "</pre>\n"
      ],
      "text/plain": [
       "Epoch 20: Loss = 0.0013515371328295328, Accuracy = 0.42034097589653147\n"
      ]
     },
     "metadata": {},
     "output_type": "display_data"
    },
    {
     "data": {
      "text/html": [
       "<pre style=\"white-space:pre;overflow-x:auto;line-height:normal;font-family:Menlo,'DejaVu Sans Mono',consolas,'Courier New',monospace\">Epoch 21: Loss = 0.0012619231276209742, Accuracy = 0.4426807760141093\n",
       "</pre>\n"
      ],
      "text/plain": [
       "Epoch 21: Loss = 0.0012619231276209742, Accuracy = 0.4426807760141093\n"
      ]
     },
     "metadata": {},
     "output_type": "display_data"
    },
    {
     "data": {
      "text/html": [
       "<pre style=\"white-space:pre;overflow-x:auto;line-height:normal;font-family:Menlo,'DejaVu Sans Mono',consolas,'Courier New',monospace\">Epoch 22: Loss = 0.0012713558947243704, Accuracy = 0.43092298647854205\n",
       "</pre>\n"
      ],
      "text/plain": [
       "Epoch 22: Loss = 0.0012713558947243704, Accuracy = 0.43092298647854205\n"
      ]
     },
     "metadata": {},
     "output_type": "display_data"
    },
    {
     "data": {
      "text/html": [
       "<pre style=\"white-space:pre;overflow-x:auto;line-height:normal;font-family:Menlo,'DejaVu Sans Mono',consolas,'Courier New',monospace\">Epoch 23: Loss = 0.001210301311624766, Accuracy = 0.45796590241034685\n",
       "</pre>\n"
      ],
      "text/plain": [
       "Epoch 23: Loss = 0.001210301311624766, Accuracy = 0.45796590241034685\n"
      ]
     },
     "metadata": {},
     "output_type": "display_data"
    },
    {
     "data": {
      "text/html": [
       "<pre style=\"white-space:pre;overflow-x:auto;line-height:normal;font-family:Menlo,'DejaVu Sans Mono',consolas,'Courier New',monospace\">Epoch 24: Loss = 0.001285742428471312, Accuracy = 0.44150499706055263\n",
       "</pre>\n"
      ],
      "text/plain": [
       "Epoch 24: Loss = 0.001285742428471312, Accuracy = 0.44150499706055263\n"
      ]
     },
     "metadata": {},
     "output_type": "display_data"
    },
    {
     "data": {
      "text/html": [
       "<pre style=\"white-space:pre;overflow-x:auto;line-height:normal;font-family:Menlo,'DejaVu Sans Mono',consolas,'Courier New',monospace\">Epoch 25: Loss = 0.00127224239035083, Accuracy = 0.4450323339212228\n",
       "</pre>\n"
      ],
      "text/plain": [
       "Epoch 25: Loss = 0.00127224239035083, Accuracy = 0.4450323339212228\n"
      ]
     },
     "metadata": {},
     "output_type": "display_data"
    },
    {
     "data": {
      "text/html": [
       "<pre style=\"white-space:pre;overflow-x:auto;line-height:normal;font-family:Menlo,'DejaVu Sans Mono',consolas,'Courier New',monospace\">Epoch 26: Loss = 0.0012829512741519625, Accuracy = 0.43445032333921224\n",
       "</pre>\n"
      ],
      "text/plain": [
       "Epoch 26: Loss = 0.0012829512741519625, Accuracy = 0.43445032333921224\n"
      ]
     },
     "metadata": {},
     "output_type": "display_data"
    },
    {
     "data": {
      "text/html": [
       "<pre style=\"white-space:pre;overflow-x:auto;line-height:normal;font-family:Menlo,'DejaVu Sans Mono',consolas,'Courier New',monospace\">Epoch 27: Loss = 0.0011927260429232104, Accuracy = 0.4644326866549089\n",
       "</pre>\n"
      ],
      "text/plain": [
       "Epoch 27: Loss = 0.0011927260429232104, Accuracy = 0.4644326866549089\n"
      ]
     },
     "metadata": {},
     "output_type": "display_data"
    },
    {
     "data": {
      "text/html": [
       "<pre style=\"white-space:pre;overflow-x:auto;line-height:normal;font-family:Menlo,'DejaVu Sans Mono',consolas,'Courier New',monospace\">Epoch 28: Loss = 0.001203859034106617, Accuracy = 0.4638447971781305\n",
       "</pre>\n"
      ],
      "text/plain": [
       "Epoch 28: Loss = 0.001203859034106617, Accuracy = 0.4638447971781305\n"
      ]
     },
     "metadata": {},
     "output_type": "display_data"
    },
    {
     "data": {
      "text/html": [
       "<pre style=\"white-space:pre;overflow-x:auto;line-height:normal;font-family:Menlo,'DejaVu Sans Mono',consolas,'Courier New',monospace\">Epoch 29: Loss = 0.0011969942310447205, Accuracy = 0.4538506760728983\n",
       "</pre>\n"
      ],
      "text/plain": [
       "Epoch 29: Loss = 0.0011969942310447205, Accuracy = 0.4538506760728983\n"
      ]
     },
     "metadata": {},
     "output_type": "display_data"
    },
    {
     "data": {
      "text/html": [
       "<pre style=\"white-space:pre;overflow-x:auto;line-height:normal;font-family:Menlo,'DejaVu Sans Mono',consolas,'Courier New',monospace\">Epoch 30: Loss = 0.0011694032246075015, Accuracy = 0.4697236919459142\n",
       "</pre>\n"
      ],
      "text/plain": [
       "Epoch 30: Loss = 0.0011694032246075015, Accuracy = 0.4697236919459142\n"
      ]
     },
     "metadata": {},
     "output_type": "display_data"
    },
    {
     "data": {
      "text/html": [
       "<pre style=\"white-space:pre;overflow-x:auto;line-height:normal;font-family:Menlo,'DejaVu Sans Mono',consolas,'Courier New',monospace\">Epoch 31: Loss = 0.0011583934973340606, Accuracy = 0.48736037624926515\n",
       "</pre>\n"
      ],
      "text/plain": [
       "Epoch 31: Loss = 0.0011583934973340606, Accuracy = 0.48736037624926515\n"
      ]
     },
     "metadata": {},
     "output_type": "display_data"
    },
    {
     "data": {
      "text/html": [
       "<pre style=\"white-space:pre;overflow-x:auto;line-height:normal;font-family:Menlo,'DejaVu Sans Mono',consolas,'Courier New',monospace\">Epoch 32: Loss = 0.0011305745703653859, Accuracy = 0.48383303938859495\n",
       "</pre>\n"
      ],
      "text/plain": [
       "Epoch 32: Loss = 0.0011305745703653859, Accuracy = 0.48383303938859495\n"
      ]
     },
     "metadata": {},
     "output_type": "display_data"
    },
    {
     "data": {
      "text/html": [
       "<pre style=\"white-space:pre;overflow-x:auto;line-height:normal;font-family:Menlo,'DejaVu Sans Mono',consolas,'Courier New',monospace\">Epoch 33: Loss = 0.0011403965492727895, Accuracy = 0.479129923574368\n",
       "</pre>\n"
      ],
      "text/plain": [
       "Epoch 33: Loss = 0.0011403965492727895, Accuracy = 0.479129923574368\n"
      ]
     },
     "metadata": {},
     "output_type": "display_data"
    },
    {
     "data": {
      "text/html": [
       "<pre style=\"white-space:pre;overflow-x:auto;line-height:normal;font-family:Menlo,'DejaVu Sans Mono',consolas,'Courier New',monospace\">Epoch 34: Loss = 0.001106144845330193, Accuracy = 0.46678424456202233\n",
       "</pre>\n"
      ],
      "text/plain": [
       "Epoch 34: Loss = 0.001106144845330193, Accuracy = 0.46678424456202233\n"
      ]
     },
     "metadata": {},
     "output_type": "display_data"
    },
    {
     "data": {
      "text/html": [
       "<pre style=\"white-space:pre;overflow-x:auto;line-height:normal;font-family:Menlo,'DejaVu Sans Mono',consolas,'Courier New',monospace\">Epoch 35: Loss = 0.0011104589453003184, Accuracy = 0.4697236919459142\n",
       "</pre>\n"
      ],
      "text/plain": [
       "Epoch 35: Loss = 0.0011104589453003184, Accuracy = 0.4697236919459142\n"
      ]
     },
     "metadata": {},
     "output_type": "display_data"
    },
    {
     "data": {
      "text/html": [
       "<pre style=\"white-space:pre;overflow-x:auto;line-height:normal;font-family:Menlo,'DejaVu Sans Mono',consolas,'Courier New',monospace\">Epoch 36: Loss = 0.0010936733399315801, Accuracy = 0.47971781305114636\n",
       "</pre>\n"
      ],
      "text/plain": [
       "Epoch 36: Loss = 0.0010936733399315801, Accuracy = 0.47971781305114636\n"
      ]
     },
     "metadata": {},
     "output_type": "display_data"
    },
    {
     "data": {
      "text/html": [
       "<pre style=\"white-space:pre;overflow-x:auto;line-height:normal;font-family:Menlo,'DejaVu Sans Mono',consolas,'Courier New',monospace\">Epoch 37: Loss = 0.001045845054760181, Accuracy = 0.4808935920047031\n",
       "</pre>\n"
      ],
      "text/plain": [
       "Epoch 37: Loss = 0.001045845054760181, Accuracy = 0.4808935920047031\n"
      ]
     },
     "metadata": {},
     "output_type": "display_data"
    },
    {
     "data": {
      "text/html": [
       "<pre style=\"white-space:pre;overflow-x:auto;line-height:normal;font-family:Menlo,'DejaVu Sans Mono',consolas,'Courier New',monospace\">Epoch 38: Loss = 0.0010417371183176081, Accuracy = 0.48736037624926515\n",
       "</pre>\n"
      ],
      "text/plain": [
       "Epoch 38: Loss = 0.0010417371183176081, Accuracy = 0.48736037624926515\n"
      ]
     },
     "metadata": {},
     "output_type": "display_data"
    },
    {
     "data": {
      "text/html": [
       "<pre style=\"white-space:pre;overflow-x:auto;line-height:normal;font-family:Menlo,'DejaVu Sans Mono',consolas,'Courier New',monospace\">Epoch 39: Loss = 0.000989017173700442, Accuracy = 0.48677248677248675\n",
       "</pre>\n"
      ],
      "text/plain": [
       "Epoch 39: Loss = 0.000989017173700442, Accuracy = 0.48677248677248675\n"
      ]
     },
     "metadata": {},
     "output_type": "display_data"
    },
    {
     "data": {
      "text/html": [
       "<pre style=\"white-space:pre;overflow-x:auto;line-height:normal;font-family:Menlo,'DejaVu Sans Mono',consolas,'Courier New',monospace\">Epoch 40: Loss = 0.0009893767149962358, Accuracy = 0.49382716049382713\n",
       "</pre>\n"
      ],
      "text/plain": [
       "Epoch 40: Loss = 0.0009893767149962358, Accuracy = 0.49382716049382713\n"
      ]
     },
     "metadata": {},
     "output_type": "display_data"
    },
    {
     "data": {
      "text/html": [
       "<pre style=\"white-space:pre;overflow-x:auto;line-height:normal;font-family:Menlo,'DejaVu Sans Mono',consolas,'Courier New',monospace\">Epoch 41: Loss = 0.0009698442927781254, Accuracy = 0.47795414462081126\n",
       "</pre>\n"
      ],
      "text/plain": [
       "Epoch 41: Loss = 0.0009698442927781254, Accuracy = 0.47795414462081126\n"
      ]
     },
     "metadata": {},
     "output_type": "display_data"
    },
    {
     "data": {
      "text/html": [
       "<pre style=\"white-space:pre;overflow-x:auto;line-height:normal;font-family:Menlo,'DejaVu Sans Mono',consolas,'Courier New',monospace\">Epoch 42: Loss = 0.0009484057531509765, Accuracy = 0.49559082892416223\n",
       "</pre>\n"
      ],
      "text/plain": [
       "Epoch 42: Loss = 0.0009484057531509765, Accuracy = 0.49559082892416223\n"
      ]
     },
     "metadata": {},
     "output_type": "display_data"
    },
    {
     "data": {
      "text/html": [
       "<pre style=\"white-space:pre;overflow-x:auto;line-height:normal;font-family:Menlo,'DejaVu Sans Mono',consolas,'Courier New',monospace\">Epoch 43: Loss = 0.0009272116351914293, Accuracy = 0.49441504997060554\n",
       "</pre>\n"
      ],
      "text/plain": [
       "Epoch 43: Loss = 0.0009272116351914293, Accuracy = 0.49441504997060554\n"
      ]
     },
     "metadata": {},
     "output_type": "display_data"
    },
    {
     "data": {
      "text/html": [
       "<pre style=\"white-space:pre;overflow-x:auto;line-height:normal;font-family:Menlo,'DejaVu Sans Mono',consolas,'Courier New',monospace\">Epoch 44: Loss = 0.0008966997197376392, Accuracy = 0.5049970605526161\n",
       "</pre>\n"
      ],
      "text/plain": [
       "Epoch 44: Loss = 0.0008966997197376392, Accuracy = 0.5049970605526161\n"
      ]
     },
     "metadata": {},
     "output_type": "display_data"
    },
    {
     "data": {
      "text/html": [
       "<pre style=\"white-space:pre;overflow-x:auto;line-height:normal;font-family:Menlo,'DejaVu Sans Mono',consolas,'Courier New',monospace\">Epoch 45: Loss = 0.0008411681953530708, Accuracy = 0.5220458553791887\n",
       "</pre>\n"
      ],
      "text/plain": [
       "Epoch 45: Loss = 0.0008411681953530708, Accuracy = 0.5220458553791887\n"
      ]
     },
     "metadata": {},
     "output_type": "display_data"
    },
    {
     "data": {
      "text/html": [
       "<pre style=\"white-space:pre;overflow-x:auto;line-height:normal;font-family:Menlo,'DejaVu Sans Mono',consolas,'Courier New',monospace\">Epoch 46: Loss = 0.0008531196567414439, Accuracy = 0.5202821869488536\n",
       "</pre>\n"
      ],
      "text/plain": [
       "Epoch 46: Loss = 0.0008531196567414439, Accuracy = 0.5202821869488536\n"
      ]
     },
     "metadata": {},
     "output_type": "display_data"
    },
    {
     "data": {
      "text/html": [
       "<pre style=\"white-space:pre;overflow-x:auto;line-height:normal;font-family:Menlo,'DejaVu Sans Mono',consolas,'Courier New',monospace\">Epoch 47: Loss = 0.0008002022488797188, Accuracy = 0.5261610817166372\n",
       "</pre>\n"
      ],
      "text/plain": [
       "Epoch 47: Loss = 0.0008002022488797188, Accuracy = 0.5261610817166372\n"
      ]
     },
     "metadata": {},
     "output_type": "display_data"
    },
    {
     "data": {
      "text/html": [
       "<pre style=\"white-space:pre;overflow-x:auto;line-height:normal;font-family:Menlo,'DejaVu Sans Mono',consolas,'Courier New',monospace\">Epoch 48: Loss = 0.0008045516657407041, Accuracy = 0.5220458553791887\n",
       "</pre>\n"
      ],
      "text/plain": [
       "Epoch 48: Loss = 0.0008045516657407041, Accuracy = 0.5220458553791887\n"
      ]
     },
     "metadata": {},
     "output_type": "display_data"
    },
    {
     "data": {
      "text/html": [
       "<pre style=\"white-space:pre;overflow-x:auto;line-height:normal;font-family:Menlo,'DejaVu Sans Mono',consolas,'Courier New',monospace\">Epoch 49: Loss = 0.0007832474568021045, Accuracy = 0.527336860670194\n",
       "</pre>\n"
      ],
      "text/plain": [
       "Epoch 49: Loss = 0.0007832474568021045, Accuracy = 0.527336860670194\n"
      ]
     },
     "metadata": {},
     "output_type": "display_data"
    },
    {
     "data": {
      "text/html": [
       "<pre style=\"white-space:pre;overflow-x:auto;line-height:normal;font-family:Menlo,'DejaVu Sans Mono',consolas,'Courier New',monospace\">Epoch 50: Loss = 0.0007382743241268701, Accuracy = 0.5349794238683128\n",
       "</pre>\n"
      ],
      "text/plain": [
       "Epoch 50: Loss = 0.0007382743241268701, Accuracy = 0.5349794238683128\n"
      ]
     },
     "metadata": {},
     "output_type": "display_data"
    },
    {
     "data": {
      "text/html": [
       "<pre style=\"white-space:pre;overflow-x:auto;line-height:normal;font-family:Menlo,'DejaVu Sans Mono',consolas,'Courier New',monospace\"></pre>\n"
      ],
      "text/plain": []
     },
     "metadata": {},
     "output_type": "display_data"
    },
    {
     "data": {
      "text/html": [
       "<pre style=\"white-space:pre;overflow-x:auto;line-height:normal;font-family:Menlo,'DejaVu Sans Mono',consolas,'Courier New',monospace\">\n",
       "</pre>\n"
      ],
      "text/plain": [
       "\n"
      ]
     },
     "metadata": {},
     "output_type": "display_data"
    }
   ],
   "source": [
    "# Training\n",
    "with Progress() as progress:\n",
    "    task = progress.add_task(\"[cyan]Training...\", total=len(50))\n",
    "    for epoch in range(50):\n",
    "        total_loss = 0\n",
    "        total_correct = 0\n",
    "        total_count = 0\n",
    "        \n",
    "        for i, (features_1, features_2, labels) in enumerate(train_loader):\n",
    "            src = features_1.float().to(device)\n",
    "            tgt = features_2.float().to(device)\n",
    "            labels = labels.float().squeeze().to(device)\n",
    "\n",
    "            optimizer.zero_grad()\n",
    "\n",
    "            outputs = model(src, tgt).squeeze()\n",
    "            loss = criterion(outputs, labels)\n",
    "\n",
    "            loss.backward()\n",
    "            optimizer.step()\n",
    "\n",
    "            # Calculate total loss and accuracy\n",
    "            total_loss += loss.item()\n",
    "            # outputs和labels为list，若outputs和labels中的一项的差值小于0.1，则认为这一项预测正确\n",
    "            total_correct += sum([1 for i in range(len(outputs)) if abs(outputs[i] - labels[i]) < 0.1])\n",
    "            total_count += labels.size(0)\n",
    "            \n",
    "        # Print loss and accuracy for each epoch\n",
    "        print(f'Epoch {epoch+1}: Loss = {total_loss/total_count}, Accuracy = {total_correct/total_count}')\n",
    "        progress.update(task, advance=1)"
   ]
  },
  {
   "cell_type": "code",
   "execution_count": 8,
   "metadata": {},
   "outputs": [],
   "source": [
    "# Save model\n",
    "torch.save(model.state_dict(), 'transformer.ckpt')"
   ]
  },
  {
   "cell_type": "code",
   "execution_count": 10,
   "metadata": {},
   "outputs": [
    {
     "data": {
      "text/plain": [
       "TransformerModel(\n",
       "  (transformer): Transformer(\n",
       "    (encoder): TransformerEncoder(\n",
       "      (layers): ModuleList(\n",
       "        (0-5): 6 x TransformerEncoderLayer(\n",
       "          (self_attn): MultiheadAttention(\n",
       "            (out_proj): NonDynamicallyQuantizableLinear(in_features=21, out_features=21, bias=True)\n",
       "          )\n",
       "          (linear1): Linear(in_features=21, out_features=2048, bias=True)\n",
       "          (dropout): Dropout(p=0.1, inplace=False)\n",
       "          (linear2): Linear(in_features=2048, out_features=21, bias=True)\n",
       "          (norm1): LayerNorm((21,), eps=1e-05, elementwise_affine=True)\n",
       "          (norm2): LayerNorm((21,), eps=1e-05, elementwise_affine=True)\n",
       "          (dropout1): Dropout(p=0.1, inplace=False)\n",
       "          (dropout2): Dropout(p=0.1, inplace=False)\n",
       "        )\n",
       "      )\n",
       "      (norm): LayerNorm((21,), eps=1e-05, elementwise_affine=True)\n",
       "    )\n",
       "    (decoder): TransformerDecoder(\n",
       "      (layers): ModuleList(\n",
       "        (0-5): 6 x TransformerDecoderLayer(\n",
       "          (self_attn): MultiheadAttention(\n",
       "            (out_proj): NonDynamicallyQuantizableLinear(in_features=21, out_features=21, bias=True)\n",
       "          )\n",
       "          (multihead_attn): MultiheadAttention(\n",
       "            (out_proj): NonDynamicallyQuantizableLinear(in_features=21, out_features=21, bias=True)\n",
       "          )\n",
       "          (linear1): Linear(in_features=21, out_features=2048, bias=True)\n",
       "          (dropout): Dropout(p=0.1, inplace=False)\n",
       "          (linear2): Linear(in_features=2048, out_features=21, bias=True)\n",
       "          (norm1): LayerNorm((21,), eps=1e-05, elementwise_affine=True)\n",
       "          (norm2): LayerNorm((21,), eps=1e-05, elementwise_affine=True)\n",
       "          (norm3): LayerNorm((21,), eps=1e-05, elementwise_affine=True)\n",
       "          (dropout1): Dropout(p=0.1, inplace=False)\n",
       "          (dropout2): Dropout(p=0.1, inplace=False)\n",
       "          (dropout3): Dropout(p=0.1, inplace=False)\n",
       "        )\n",
       "      )\n",
       "      (norm): LayerNorm((21,), eps=1e-05, elementwise_affine=True)\n",
       "    )\n",
       "  )\n",
       "  (fc): Linear(in_features=21, out_features=1, bias=True)\n",
       ")"
      ]
     },
     "execution_count": 10,
     "metadata": {},
     "output_type": "execute_result"
    }
   ],
   "source": [
    "# Inference\n",
    "model.load_state_dict(torch.load('transformer.ckpt'))\n",
    "model = model.to(device)\n",
    "model.eval()"
   ]
  },
  {
   "cell_type": "code",
   "execution_count": 13,
   "metadata": {},
   "outputs": [],
   "source": [
    "correct = 0\n",
    "total = 0\n",
    "\n",
    "with torch.no_grad():\n",
    "    for features_1, features_2, labels in test_loader:\n",
    "        # Remove last day's features as we don't have the next day's mood value\n",
    "        src = features_1.float().to(device)\n",
    "        tgt = features_2.float().to(device)\n",
    "        labels = labels.float().squeeze().to(device)\n",
    "\n",
    "        outputs = model(src, tgt).squeeze()\n",
    "\n",
    "        # _, predicted = torch.max(outputs.data, 1)\n",
    "        total += labels.size(0)\n",
    "        # correct += (predicted == labels).sum().item()\n",
    "        # correct += (outputs == labels).sum().item()\n",
    "        # outputs和labels为list，若outputs和labels中的一项的差值小于0.1，则认为这一项预测正确\n",
    "        correct += sum([1 for i in range(len(outputs)) if abs(outputs[i] - labels[i]) < 0.1])"
   ]
  },
  {
   "cell_type": "code",
   "execution_count": 14,
   "metadata": {},
   "outputs": [
    {
     "name": "stdout",
     "output_type": "stream",
     "text": [
      "Accuracy: 67 %\n"
     ]
    }
   ],
   "source": [
    "print('Accuracy: %d %%' % (100 * correct / total))"
   ]
  }
 ],
 "metadata": {
  "kernelspec": {
   "display_name": "PyTorch",
   "language": "python",
   "name": "python3"
  },
  "language_info": {
   "codemirror_mode": {
    "name": "ipython",
    "version": 3
   },
   "file_extension": ".py",
   "mimetype": "text/x-python",
   "name": "python",
   "nbconvert_exporter": "python",
   "pygments_lexer": "ipython3",
   "version": "3.10.13"
  }
 },
 "nbformat": 4,
 "nbformat_minor": 2
}
