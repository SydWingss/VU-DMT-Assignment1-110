{
 "cells": [
  {
   "cell_type": "code",
   "execution_count": 23,
   "metadata": {},
   "outputs": [],
   "source": [
    "import pandas as pd\n",
    "import numpy as np\n",
    "\n",
    "from sklearn.ensemble import RandomForestRegressor\n",
    "from sklearn.ensemble import RandomForestClassifier\n",
    "\n",
    "from sklearn.model_selection import GridSearchCV\n",
    "\n",
    "from sklearn.model_selection import train_test_split\n",
    "import os\n",
    "from sklearn.metrics import mean_squared_error, mean_absolute_error, r2_score\n"
   ]
  },
  {
   "cell_type": "markdown",
   "metadata": {},
   "source": [
    "Classification"
   ]
  },
  {
   "cell_type": "code",
   "execution_count": null,
   "metadata": {},
   "outputs": [],
   "source": [
    "#加载数据\n",
    "os.getcwd()\n",
    "data = pd.read_csv(os.getcwd()+'\\\\time_resampling\\\\featured_time_resamping_sparse_matrix_data.csv')\n",
    "data['time'] = pd.to_datetime(data['time'])\n",
    "\n",
    "###############\n",
    "#所有mood值向前移动一行\n",
    "data['mood'] = data.groupby('id')['mood'].shift(-1)\n",
    "\n",
    "# 按'id'和'time'排序，确保每个'id'分组的最后一行是时间最晚的\n",
    "data.sort_values(by=['id', 'time'], inplace=True)\n",
    "\n",
    "# 删除每个'id'分组的最后一行\n",
    "data = data.groupby('id').apply(lambda x: x.iloc[:-1]).reset_index(drop=True)\n",
    "\n",
    "\n",
    "\n",
    "features = data.drop(columns=['mood','id','time'])\n",
    "target = data['mood']\n",
    "\n",
    "Xtrain, Xtest, Ytrain, Ytest = train_test_split(features,target,test_size=0.3)\n"
   ]
  },
  {
   "cell_type": "code",
   "execution_count": null,
   "metadata": {},
   "outputs": [],
   "source": [
    "\n",
    "rt_classifier = RandomForestClassifier(random_state=1)\n",
    "param_grid = {\n",
    "    'n_estimators': [50, 100, 200],  # 树的数量\n",
    "    'max_features': ['auto', 'sqrt', 'log2'],  # 考虑的最大特征数\n",
    "    'max_depth': [None, 10, 20, 30],  # 最大树深度\n",
    "    'min_samples_split': [2, 5, 10],  # 分割内部节点所需的最小样本数\n",
    "    'min_samples_leaf': [1, 2, 4]  # 叶节点所需的最小样本数\n",
    "}\n",
    "grid_search = GridSearchCV(estimator=rt_classifier, param_grid=param_grid, cv=3, scoring='r2', n_jobs=-1, verbose=2)\n",
    "\n",
    "# 拟合网格搜索\n",
    "grid_search.fit(Xtrain, Ytrain)\n",
    "print(\"Best parameters found: \", grid_search.best_params_)\n",
    "best_rf = grid_search.best_estimator_\n",
    "val_predictions = best_rf.predict(Xtest)\n"
   ]
  },
  {
   "cell_type": "code",
   "execution_count": null,
   "metadata": {},
   "outputs": [],
   "source": [
    "\n",
    "mse = mean_squared_error(Ytest, val_predictions)\n",
    "print(f'Mean Squared Error (MSE): {mse}')\n",
    "\n",
    "# 计算RMSE\n",
    "rmse = mean_squared_error(Ytest, val_predictions, squared=False)\n",
    "print(f'Root Mean Squared Error (RMSE): {rmse}')\n",
    "\n",
    "# 计算MAE\n",
    "mae = mean_absolute_error(Ytest, val_predictions)\n",
    "print(f'Mean Absolute Error (MAE): {mae}')\n",
    "\n",
    "# 计算R^2\n",
    "r2 = r2_score(Ytest, val_predictions)\n",
    "print(f'R^2: {r2}')"
   ]
  },
  {
   "cell_type": "markdown",
   "metadata": {},
   "source": [
    "Regression"
   ]
  },
  {
   "cell_type": "code",
   "execution_count": 5,
   "metadata": {},
   "outputs": [
    {
     "name": "stdout",
     "output_type": "stream",
     "text": [
      "circumplex.arousal      float64\n",
      "circumplex.valence      float64\n",
      "activity                float64\n",
      "screen                  float64\n",
      "appCat.builtin          float64\n",
      "appCat.communication    float64\n",
      "appCat.entertainment    float64\n",
      "appCat.finance          float64\n",
      "appCat.game             float64\n",
      "appCat.office           float64\n",
      "appCat.other            float64\n",
      "appCat.social           float64\n",
      "appCat.travel           float64\n",
      "appCat.unknown          float64\n",
      "appCat.utilities        float64\n",
      "appCat.weather          float64\n",
      "call_0.0                   bool\n",
      "call_1.0                   bool\n",
      "sms_0.0                    bool\n",
      "sms_1.0                    bool\n",
      "dtype: object\n",
      "111111111111\n",
      "float64\n"
     ]
    },
    {
     "name": "stderr",
     "output_type": "stream",
     "text": [
      "C:\\Users\\sydwi\\AppData\\Local\\Temp\\ipykernel_25984\\2594868944.py:14: DeprecationWarning: DataFrameGroupBy.apply operated on the grouping columns. This behavior is deprecated, and in a future version of pandas the grouping columns will be excluded from the operation. Either pass `include_groups=False` to exclude the groupings or explicitly select the grouping columns after groupby to silence this warning.\n",
      "  data = data.groupby('id').apply(lambda x: x.iloc[:-1]).reset_index(drop=True)\n"
     ]
    }
   ],
   "source": [
    "\n",
    "#加载数据\n",
    "os.getcwd()\n",
    "data = pd.read_csv(os.getcwd()+'\\\\time_resampling\\\\featured_time_resamping_sparse_matrix_data.csv')\n",
    "data['time'] = pd.to_datetime(data['time'])\n",
    "\n",
    "###############\n",
    "#所有mood值向前移动一行\n",
    "data['mood'] = data.groupby('id')['mood'].shift(-1)\n",
    "\n",
    "# 按'id'和'time'排序，确保每个'id'分组的最后一行是时间最晚的\n",
    "data.sort_values(by=['id', 'time'], inplace=True)\n",
    "\n",
    "# 删除每个'id'分组的最后一行\n",
    "data = data.groupby('id').apply(lambda x: x.iloc[:-1]).reset_index(drop=True)\n",
    "################\n",
    "#data=data.drop(columns=['Unnamed: 0'])\n",
    "\n",
    "\n",
    "# 提取年、月、日、星期几、小时等作为新特征\n",
    "# data['year'] = data['time'].dt.year\n",
    "# data['month'] = data['time'].dt.month\n",
    "# data['day'] = data['time'].dt.day\n",
    "# data['weekday'] = data['time'].dt.weekday\n",
    "# data['hour'] = data['time'].dt.hour\n",
    "\n",
    "# 使用正弦和余弦变换对月份和小时进行周期性编码\n",
    "# data['sin_month'] = np.sin(2 * np.pi * data['month'] / 12)\n",
    "# data['cos_month'] = np.cos(2 * np.pi * data['month'] / 12)\n",
    "# data['sin_hour'] = np.sin(2 * np.pi * data['hour'] / 24)\n",
    "# data['cos_hour'] = np.cos(2 * np.pi * data['hour'] / 24)\n",
    "\n",
    "\n",
    "features = data.drop(columns=['mood','id','time'])\n",
    "target = data['mood']\n",
    "\n",
    "Xtrain, Xtest, Ytrain, Ytest = train_test_split(features,target,test_size=0.3)\n",
    "\n",
    "\n"
   ]
  },
  {
   "cell_type": "code",
   "execution_count": 28,
   "metadata": {},
   "outputs": [
    {
     "name": "stdout",
     "output_type": "stream",
     "text": [
      "Fitting 3 folds for each of 324 candidates, totalling 972 fits\n"
     ]
    },
    {
     "name": "stderr",
     "output_type": "stream",
     "text": [
      "c:\\Users\\sydwi\\miniconda3\\envs\\Env1\\lib\\site-packages\\sklearn\\model_selection\\_validation.py:547: FitFailedWarning: \n",
      "324 fits failed out of a total of 972.\n",
      "The score on these train-test partitions for these parameters will be set to nan.\n",
      "If these failures are not expected, you can try to debug them by setting error_score='raise'.\n",
      "\n",
      "Below are more details about the failures:\n",
      "--------------------------------------------------------------------------------\n",
      "203 fits failed with the following error:\n",
      "Traceback (most recent call last):\n",
      "  File \"c:\\Users\\sydwi\\miniconda3\\envs\\Env1\\lib\\site-packages\\sklearn\\model_selection\\_validation.py\", line 895, in _fit_and_score\n",
      "    estimator.fit(X_train, y_train, **fit_params)\n",
      "  File \"c:\\Users\\sydwi\\miniconda3\\envs\\Env1\\lib\\site-packages\\sklearn\\base.py\", line 1467, in wrapper\n",
      "    estimator._validate_params()\n",
      "  File \"c:\\Users\\sydwi\\miniconda3\\envs\\Env1\\lib\\site-packages\\sklearn\\base.py\", line 666, in _validate_params\n",
      "    validate_parameter_constraints(\n",
      "  File \"c:\\Users\\sydwi\\miniconda3\\envs\\Env1\\lib\\site-packages\\sklearn\\utils\\_param_validation.py\", line 95, in validate_parameter_constraints\n",
      "    raise InvalidParameterError(\n",
      "sklearn.utils._param_validation.InvalidParameterError: The 'max_features' parameter of RandomForestRegressor must be an int in the range [1, inf), a float in the range (0.0, 1.0], a str among {'sqrt', 'log2'} or None. Got 'auto' instead.\n",
      "\n",
      "--------------------------------------------------------------------------------\n",
      "121 fits failed with the following error:\n",
      "Traceback (most recent call last):\n",
      "  File \"c:\\Users\\sydwi\\miniconda3\\envs\\Env1\\lib\\site-packages\\sklearn\\model_selection\\_validation.py\", line 895, in _fit_and_score\n",
      "    estimator.fit(X_train, y_train, **fit_params)\n",
      "  File \"c:\\Users\\sydwi\\miniconda3\\envs\\Env1\\lib\\site-packages\\sklearn\\base.py\", line 1467, in wrapper\n",
      "    estimator._validate_params()\n",
      "  File \"c:\\Users\\sydwi\\miniconda3\\envs\\Env1\\lib\\site-packages\\sklearn\\base.py\", line 666, in _validate_params\n",
      "    validate_parameter_constraints(\n",
      "  File \"c:\\Users\\sydwi\\miniconda3\\envs\\Env1\\lib\\site-packages\\sklearn\\utils\\_param_validation.py\", line 95, in validate_parameter_constraints\n",
      "    raise InvalidParameterError(\n",
      "sklearn.utils._param_validation.InvalidParameterError: The 'max_features' parameter of RandomForestRegressor must be an int in the range [1, inf), a float in the range (0.0, 1.0], a str among {'log2', 'sqrt'} or None. Got 'auto' instead.\n",
      "\n",
      "  warnings.warn(some_fits_failed_message, FitFailedWarning)\n",
      "c:\\Users\\sydwi\\miniconda3\\envs\\Env1\\lib\\site-packages\\sklearn\\model_selection\\_search.py:1051: UserWarning: One or more of the test scores are non-finite: [       nan        nan        nan        nan        nan        nan\n",
      "        nan        nan        nan        nan        nan        nan\n",
      "        nan        nan        nan        nan        nan        nan\n",
      "        nan        nan        nan        nan        nan        nan\n",
      "        nan        nan        nan 0.12455162 0.13889839 0.14625081\n",
      " 0.14034616 0.15080867 0.15275821 0.13912617 0.14556345 0.14921214\n",
      " 0.14376061 0.1518776  0.15573932 0.13738994 0.14516447 0.14786763\n",
      " 0.14291833 0.14713784 0.15089035 0.15422349 0.1537804  0.15755478\n",
      " 0.15422349 0.1537804  0.15755478 0.1501309  0.15338367 0.15749795\n",
      " 0.12455162 0.13889839 0.14625081 0.14034616 0.15080867 0.15275821\n",
      " 0.13912617 0.14556345 0.14921214 0.14376061 0.1518776  0.15573932\n",
      " 0.13738994 0.14516447 0.14786763 0.14291833 0.14713784 0.15089035\n",
      " 0.15422349 0.1537804  0.15755478 0.15422349 0.1537804  0.15755478\n",
      " 0.1501309  0.15338367 0.15749795        nan        nan        nan\n",
      "        nan        nan        nan        nan        nan        nan\n",
      "        nan        nan        nan        nan        nan        nan\n",
      "        nan        nan        nan        nan        nan        nan\n",
      "        nan        nan        nan        nan        nan        nan\n",
      " 0.14749552 0.15072426 0.15371221 0.1419988  0.14210114 0.14632329\n",
      " 0.14020972 0.1462971  0.15033562 0.15019846 0.15734597 0.15512597\n",
      " 0.14327904 0.14670538 0.15531549 0.14111276 0.14370746 0.15016513\n",
      " 0.14553406 0.15178588 0.15700294 0.14553406 0.15178588 0.15700294\n",
      " 0.14772273 0.1537455  0.15401501 0.14749552 0.15072426 0.15371221\n",
      " 0.1419988  0.14210114 0.14632329 0.14020972 0.1462971  0.15033562\n",
      " 0.15019846 0.15734597 0.15512597 0.14327904 0.14670538 0.15531549\n",
      " 0.14111276 0.14370746 0.15016513 0.14553406 0.15178588 0.15700294\n",
      " 0.14553406 0.15178588 0.15700294 0.14772273 0.1537455  0.15401501\n",
      "        nan        nan        nan        nan        nan        nan\n",
      "        nan        nan        nan        nan        nan        nan\n",
      "        nan        nan        nan        nan        nan        nan\n",
      "        nan        nan        nan        nan        nan        nan\n",
      "        nan        nan        nan 0.12715086 0.13655344 0.14198416\n",
      " 0.14308724 0.15052037 0.14962753 0.14077689 0.14723721 0.14941457\n",
      " 0.14707028 0.15309709 0.15493231 0.13961412 0.14530887 0.15001975\n",
      " 0.14285547 0.14873673 0.15262554 0.15396765 0.15306749 0.15697499\n",
      " 0.15396765 0.15306749 0.15697499 0.1501309  0.15348325 0.15760186\n",
      " 0.12715086 0.13655344 0.14198416 0.14308724 0.15052037 0.14962753\n",
      " 0.14077689 0.14723721 0.14941457 0.14707028 0.15309709 0.15493231\n",
      " 0.13961412 0.14530887 0.15001975 0.14285547 0.14873673 0.15262554\n",
      " 0.15396765 0.15306749 0.15697499 0.15396765 0.15306749 0.15697499\n",
      " 0.1501309  0.15348325 0.15760186        nan        nan        nan\n",
      "        nan        nan        nan        nan        nan        nan\n",
      "        nan        nan        nan        nan        nan        nan\n",
      "        nan        nan        nan        nan        nan        nan\n",
      "        nan        nan        nan        nan        nan        nan\n",
      " 0.12455162 0.13907959 0.14634268 0.14034616 0.15080867 0.15275821\n",
      " 0.13956011 0.14580003 0.14936289 0.14376061 0.1518776  0.15573932\n",
      " 0.13738994 0.14516447 0.14786763 0.14291833 0.14713784 0.15089035\n",
      " 0.15422349 0.1537804  0.15755478 0.15422349 0.1537804  0.15755478\n",
      " 0.1501309  0.15338367 0.15749795 0.12455162 0.13907959 0.14634268\n",
      " 0.14034616 0.15080867 0.15275821 0.13956011 0.14580003 0.14936289\n",
      " 0.14376061 0.1518776  0.15573932 0.13738994 0.14516447 0.14786763\n",
      " 0.14291833 0.14713784 0.15089035 0.15422349 0.1537804  0.15755478\n",
      " 0.15422349 0.1537804  0.15755478 0.1501309  0.15338367 0.15749795]\n",
      "  warnings.warn(\n"
     ]
    },
    {
     "name": "stdout",
     "output_type": "stream",
     "text": [
      "Best parameters found:  {'max_depth': 20, 'max_features': 'sqrt', 'min_samples_leaf': 4, 'min_samples_split': 10, 'n_estimators': 200}\n"
     ]
    }
   ],
   "source": [
    "\n",
    "\n",
    "\n",
    "# 实例化随机森林回归器\n",
    "rf_regressor = RandomForestRegressor(random_state=1)\n",
    "param_grid = {\n",
    "    'n_estimators': [50, 100, 200],  # 树的数量\n",
    "    'max_features': ['auto', 'sqrt', 'log2'],  # 考虑的最大特征数\n",
    "    'max_depth': [None, 10, 20, 30],  # 最大树深度\n",
    "    'min_samples_split': [2, 5, 10],  # 分割内部节点所需的最小样本数\n",
    "    'min_samples_leaf': [1, 2, 4]  # 叶节点所需的最小样本数\n",
    "}\n",
    "grid_search = GridSearchCV(estimator=rf_regressor, param_grid=param_grid, cv=3, scoring='r2', n_jobs=-1, verbose=2)\n",
    "\n",
    "# 拟合网格搜索\n",
    "grid_search.fit(Xtrain, Ytrain)\n",
    "print(\"Best parameters found: \", grid_search.best_params_)\n",
    "best_rf = grid_search.best_estimator_\n",
    "val_predictions = best_rf.predict(Xtest)\n",
    "\n",
    "\n",
    "\n"
   ]
  },
  {
   "cell_type": "code",
   "execution_count": 30,
   "metadata": {},
   "outputs": [
    {
     "name": "stdout",
     "output_type": "stream",
     "text": [
      "Mean Squared Error (MSE): 0.03134094349299338\n",
      "Root Mean Squared Error (RMSE): 0.17703373546585233\n",
      "Mean Absolute Error (MAE): 0.11549492926114302\n",
      "R^2: 0.20535951494436333\n"
     ]
    },
    {
     "name": "stderr",
     "output_type": "stream",
     "text": [
      "c:\\Users\\sydwi\\miniconda3\\envs\\Env1\\lib\\site-packages\\sklearn\\metrics\\_regression.py:483: FutureWarning: 'squared' is deprecated in version 1.4 and will be removed in 1.6. To calculate the root mean squared error, use the function'root_mean_squared_error'.\n",
      "  warnings.warn(\n"
     ]
    }
   ],
   "source": [
    "\n",
    "\n",
    "mse = mean_squared_error(Ytest, val_predictions)\n",
    "print(f'Mean Squared Error (MSE): {mse}')\n",
    "\n",
    "# 计算RMSE\n",
    "rmse = mean_squared_error(Ytest, val_predictions, squared=False)\n",
    "print(f'Root Mean Squared Error (RMSE): {rmse}')\n",
    "\n",
    "# 计算MAE\n",
    "mae = mean_absolute_error(Ytest, val_predictions)\n",
    "print(f'Mean Absolute Error (MAE): {mae}')\n",
    "\n",
    "# 计算R^2\n",
    "r2 = r2_score(Ytest, val_predictions)\n",
    "print(f'R^2: {r2}')"
   ]
  },
  {
   "cell_type": "markdown",
   "metadata": {},
   "source": []
  }
 ],
 "metadata": {
  "kernelspec": {
   "display_name": "Env1",
   "language": "python",
   "name": "python3"
  },
  "language_info": {
   "codemirror_mode": {
    "name": "ipython",
    "version": 3
   },
   "file_extension": ".py",
   "mimetype": "text/x-python",
   "name": "python",
   "nbconvert_exporter": "python",
   "pygments_lexer": "ipython3",
   "version": "3.10.13"
  }
 },
 "nbformat": 4,
 "nbformat_minor": 2
}
