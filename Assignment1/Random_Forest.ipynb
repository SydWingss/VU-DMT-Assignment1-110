{
 "cells": [
  {
   "cell_type": "code",
   "execution_count": 33,
   "metadata": {},
   "outputs": [],
   "source": [
    "import pandas as pd\n",
    "import numpy as np\n",
    "\n",
    "from sklearn.ensemble import RandomForestRegressor\n",
    "from sklearn.model_selection import train_test_split\n",
    "import os\n"
   ]
  },
  {
   "cell_type": "markdown",
   "metadata": {},
   "source": [
    "切割数据"
   ]
  },
  {
   "cell_type": "code",
   "execution_count": 44,
   "metadata": {},
   "outputs": [],
   "source": [
    "\n",
    "#加载数据\n",
    "os.getcwd()\n",
    "data = pd.read_csv(os.getcwd()+'\\\\time_resampling\\\\featured_time_resamping_sparse_matrix_data.csv')\n",
    "data['time'] = pd.to_datetime(data['time'])\n",
    "\n",
    "# 提取年、月、日、星期几、小时等作为新特征\n",
    "# data['year'] = data['time'].dt.year\n",
    "data['month'] = data['time'].dt.month\n",
    "data['day'] = data['time'].dt.day\n",
    "data['weekday'] = data['time'].dt.weekday\n",
    "data['hour'] = data['time'].dt.hour\n",
    "\n",
    "# 使用正弦和余弦变换对月份和小时进行周期性编码\n",
    "# data['sin_month'] = np.sin(2 * np.pi * data['month'] / 12)\n",
    "# data['cos_month'] = np.cos(2 * np.pi * data['month'] / 12)\n",
    "# data['sin_hour'] = np.sin(2 * np.pi * data['hour'] / 24)\n",
    "# data['cos_hour'] = np.cos(2 * np.pi * data['hour'] / 24)\n",
    "\n",
    "\n",
    "\n",
    "rfc = RandomForestRegressor(n_estimators=100, random_state=90)\n",
    "\n",
    "train_features = pd.DataFrame()\n",
    "train_target = pd.DataFrame()\n",
    "val_features = pd.DataFrame()\n",
    "val_target = pd.DataFrame()\n",
    "test_features = pd.DataFrame()\n",
    "test_target = pd.DataFrame()\n",
    "\n",
    "for _, group_data in data.groupby('id'):\n",
    "    # 计算每个集合的大小\n",
    "    n_total = len(group_data)\n",
    "    n_train = int(n_total * 0.7)\n",
    "    n_val = int(n_total * 0.2)\n",
    "    n_test = n_total - n_train - n_val  # Remainder goes to test set\n",
    "    \n",
    "    # 提取目标和特征\n",
    "    features = group_data.drop('mood', axis=1)\n",
    "    target = group_data['mood']\n",
    "    \n",
    "    # 分割数据集\n",
    "    train_features = pd.concat([train_features, features.iloc[:n_train]])\n",
    "    train_target = pd.concat([train_target, target.iloc[:n_train]])\n",
    "    val_features = pd.concat([val_features, features.iloc[n_train:n_train+n_val]])\n",
    "    val_target = pd.concat([val_target, target.iloc[n_train:n_train+n_val]])\n",
    "    test_features = pd.concat([test_features, features.iloc[n_train+n_val:]])\n",
    "    test_target = pd.concat([test_target, target.iloc[n_train+n_val:]])\n",
    "\n",
    "\n",
    "train_features = train_features.drop(columns=['id','time'])\n",
    "#train_target = train_target.drop(columns=['id'])\n",
    "val_features = val_features.drop(columns=['id','time'])\n",
    "#val_target = val_target.drop(columns=['id'])\n",
    "test_features = test_features.drop(columns=['id','time'])\n",
    "#test_target = test_target.drop(columns=['id'])\n",
    "# 检查每个数据集的尺寸以确认切割正确\n",
    "#(train_features.shape, train_target.shape, val_features.shape, val_target.shape, test_features.shape, test_target.shape)\n"
   ]
  },
  {
   "cell_type": "code",
   "execution_count": 46,
   "metadata": {},
   "outputs": [
    {
     "data": {
      "text/plain": [
       "(array([0.61337564, 0.75896865, 0.48847115, 0.59604088, 0.41815342]),\n",
       " array([0.6978495 , 0.63497557, 0.72144503, 0.63146653, 0.72581798]))"
      ]
     },
     "execution_count": 46,
     "metadata": {},
     "output_type": "execute_result"
    }
   ],
   "source": [
    "\n",
    "\n",
    "# 实例化随机森林回归器\n",
    "rf_regressor = RandomForestRegressor(n_estimators=100, random_state=42)\n",
    "\n",
    "# 训练随机森林模型\n",
    "rf_regressor.fit(train_features, train_target.values.ravel())  # 使用ravel()来将目标数组转换成适合fit函数的形式\n",
    "\n",
    "# 使用训练好的模型对验证集和测试集进行预测\n",
    "val_predictions = rf_regressor.predict(val_features)\n",
    "test_predictions = rf_regressor.predict(test_features)\n",
    "\n",
    "# 查看验证集和测试集的一些预测值\n",
    "(val_predictions[:5], test_predictions[:5])\n"
   ]
  },
  {
   "cell_type": "code",
   "execution_count": 48,
   "metadata": {},
   "outputs": [
    {
     "name": "stdout",
     "output_type": "stream",
     "text": [
      "Mean Squared Error (MSE): 0.024910176292444616\n",
      "Root Mean Squared Error (RMSE): 0.1578295799032761\n",
      "Mean Absolute Error (MAE): 0.12770990145347721\n",
      "R^2: 0.5162662945760021\n"
     ]
    },
    {
     "name": "stderr",
     "output_type": "stream",
     "text": [
      "c:\\Users\\sydwi\\miniconda3\\envs\\Env1\\lib\\site-packages\\sklearn\\metrics\\_regression.py:483: FutureWarning: 'squared' is deprecated in version 1.4 and will be removed in 1.6. To calculate the root mean squared error, use the function'root_mean_squared_error'.\n",
      "  warnings.warn(\n"
     ]
    },
    {
     "ename": "",
     "evalue": "",
     "output_type": "error",
     "traceback": [
      "\u001b[1;31m在当前单元格或上一个单元格中执行代码时 Kernel 崩溃。\n",
      "\u001b[1;31m请查看单元格中的代码，以确定故障的可能原因。\n",
      "\u001b[1;31m单击<a href='https://aka.ms/vscodeJupyterKernelCrash'>此处</a>了解详细信息。\n",
      "\u001b[1;31m有关更多详细信息，请查看 Jupyter <a href='command:jupyter.viewOutput'>log</a>。"
     ]
    }
   ],
   "source": [
    "from sklearn.metrics import mean_squared_error, mean_absolute_error, r2_score\n",
    "\n",
    "mse = mean_squared_error(val_target, val_predictions)\n",
    "print(f'Mean Squared Error (MSE): {mse}')\n",
    "\n",
    "# 计算RMSE\n",
    "rmse = mean_squared_error(val_target, val_predictions, squared=False)\n",
    "print(f'Root Mean Squared Error (RMSE): {rmse}')\n",
    "\n",
    "# 计算MAE\n",
    "mae = mean_absolute_error(val_target, val_predictions)\n",
    "print(f'Mean Absolute Error (MAE): {mae}')\n",
    "\n",
    "# 计算R^2\n",
    "r2 = r2_score(val_target, val_predictions)\n",
    "print(f'R^2: {r2}')"
   ]
  }
 ],
 "metadata": {
  "kernelspec": {
   "display_name": "Env1",
   "language": "python",
   "name": "python3"
  },
  "language_info": {
   "codemirror_mode": {
    "name": "ipython",
    "version": 3
   },
   "file_extension": ".py",
   "mimetype": "text/x-python",
   "name": "python",
   "nbconvert_exporter": "python",
   "pygments_lexer": "ipython3",
   "version": "3.10.13"
  }
 },
 "nbformat": 4,
 "nbformat_minor": 2
}
