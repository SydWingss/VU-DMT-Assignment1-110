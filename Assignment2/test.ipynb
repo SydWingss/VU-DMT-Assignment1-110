{
 "cells": [
  {
   "cell_type": "code",
   "execution_count": 1,
   "metadata": {},
   "outputs": [
    {
     "name": "stderr",
     "output_type": "stream",
     "text": [
      "c:\\Users\\sydwi\\miniconda3\\envs\\Env1\\lib\\site-packages\\tqdm\\auto.py:21: TqdmWarning: IProgress not found. Please update jupyter and ipywidgets. See https://ipywidgets.readthedocs.io/en/stable/user_install.html\n",
      "  from .autonotebook import tqdm as notebook_tqdm\n"
     ]
    }
   ],
   "source": [
    "import pandas as pd\n",
    "import numpy as np\n",
    "from datasets import load_dataset\n"
   ]
  },
  {
   "cell_type": "code",
   "execution_count": 5,
   "metadata": {},
   "outputs": [
    {
     "name": "stderr",
     "output_type": "stream",
     "text": [
      "Downloading data: 100%|██████████| 63.8M/63.8M [00:09<00:00, 6.77MB/s]\n",
      "Generating train split: 4959183 examples [00:01, 2645695.25 examples/s]\n"
     ]
    }
   ],
   "source": [
    "# test_file_path = r\"D:\\P5\\Data Mining\\Assignment\\dmt-2024-2nd-assignment\\test_set_VU_DM.csv\"\n",
    "# train_file_path = r\"D:\\P5\\Data Mining\\Assignment\\dmt-2024-2nd-assignment\\training_set_VU_DM.csv\"\n",
    "dataset_url_1 = \"Looong/DMT_Assignment_2\"\n",
    "path =\"submission_sample.csv\"\n",
    "dataset_1 = load_dataset(dataset_url_1, data_files=path)\n",
    "\n",
    "# test_data = pd.read_csv(test_file_path, nrows=5)\n",
    "# train_data = pd.read_csv(train_file_path, nrows=5)\n",
    "\n",
    "\n",
    "\n",
    "# diff_columns = set(test_data.columns).symmetric_difference(train_data.columns)\n",
    "# print(diff_columns)"
   ]
  },
  {
   "cell_type": "code",
   "execution_count": 6,
   "metadata": {},
   "outputs": [
    {
     "name": "stdout",
     "output_type": "stream",
     "text": [
      "<class 'datasets.dataset_dict.DatasetDict'>\n"
     ]
    }
   ],
   "source": [
    "train_dataset = dataset_1['train']\n",
    "test_dataset = dataset_1['test']\n"
   ]
  }
 ],
 "metadata": {
  "kernelspec": {
   "display_name": "Env1",
   "language": "python",
   "name": "python3"
  },
  "language_info": {
   "codemirror_mode": {
    "name": "ipython",
    "version": 3
   },
   "file_extension": ".py",
   "mimetype": "text/x-python",
   "name": "python",
   "nbconvert_exporter": "python",
   "pygments_lexer": "ipython3",
   "version": "3.10.13"
  }
 },
 "nbformat": 4,
 "nbformat_minor": 2
}
