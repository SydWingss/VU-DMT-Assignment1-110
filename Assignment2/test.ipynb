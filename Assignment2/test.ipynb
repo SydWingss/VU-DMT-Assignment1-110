{
 "cells": [
  {
   "cell_type": "code",
   "execution_count": 20,
   "metadata": {},
   "outputs": [],
   "source": [
    "import pandas as pd\n",
    "import numpy as np\n",
    "import dataclean as dc \n",
    "from pandas import DataFrame\n",
    "from sklearn.preprocessing import StandardScaler, MinMaxScaler\n"
   ]
  },
  {
   "cell_type": "code",
   "execution_count": 2,
   "metadata": {},
   "outputs": [],
   "source": [
    "#!!!!!!!!!!!!!!!!!!!!!!!!!!!!!!!!!!!!!!!!!!!!!!!!!!!!!!!!!!!!\n",
    "#若想本地运行，此处需要修改\n",
    "data=pd.read_csv('training_set_VU_DM.csv')"
   ]
  },
  {
   "cell_type": "markdown",
   "metadata": {},
   "source": [
    "clean data"
   ]
  },
  {
   "cell_type": "code",
   "execution_count": 3,
   "metadata": {},
   "outputs": [],
   "source": [
    "def Median_padding(data:DataFrame,column:str):\n",
    "    # 计算众数并确保众数计算成功\n",
    "    if not data[column].mode().empty:\n",
    "        mode_value = data[column].mode()[0]\n",
    "        print(column+\"众数值:\", mode_value)\n",
    "\n",
    "        # 用众数填充空缺值\n",
    "        data[column].fillna(mode_value, inplace=True)\n",
    "\n",
    "        # 检查填充后的空缺值情况\n",
    "        print(column+\"填充后的空缺值个数:\", data[column].isnull().sum())\n",
    "    else:\n",
    "        print(column+\"无法计算众数，因为数据列中没有有效值。\")\n",
    "        \n",
    "\n",
    "def fill_missing_values(data:DataFrame):#严格按照每个酒店的中位数进行填充，但是太慢了，放弃\n",
    "    prop_id=data['prop_id'].unique()\n",
    "    fill_cols=['comp1_rate','comp1_inv','comp1_rate_percent_diff',\n",
    "                'comp2_rate','comp2_inv','comp2_rate_percent_diff',\n",
    "                'comp3_rate','comp3_inv','comp3_rate_percent_diff',                \n",
    "                'comp4_rate','comp4_inv','comp4_rate_percent_diff',\n",
    "                'comp5_rate','comp5_inv','comp5_rate_percent_diff',\n",
    "                'comp6_rate','comp6_inv','comp6_rate_percent_diff',\n",
    "                'comp7_rate','comp7_inv','comp7_rate_percent_diff',\n",
    "                'comp8_rate','comp8_inv','comp8_rate_percent_diff']\n",
    "    #用一个字典存储每个属性的中位数\n",
    "    comp_median = {col: data[col].median() for col in fill_cols}\n",
    "    \n",
    "    temp = data[['prop_id'] + fill_cols].copy()\n",
    "\n",
    "    \n",
    "\n",
    "    def process_group(prop):\n",
    "        prop_data = temp[temp['prop_id'] == prop]\n",
    "        for col in fill_cols:\n",
    "            if prop_data[col].isna().all():  # 如果这一列全是空值,则用comp_median[col]填充\n",
    "                fill_value = comp_median[col]\n",
    "            else:  # 如果这一列不全是空值,则用这一列的中位数填充\n",
    "                fill_value = prop_data[col].median()\n",
    "            temp.loc[temp['prop_id'] == prop, col] = prop_data[col].fillna(fill_value)\n",
    "    \n",
    "    # 使用 Parallel 和 delayed 并行处理\n",
    "    Parallel(n_jobs=-1,backend='threading',verbose=1)(delayed(process_group)(prop) for prop in prop_id)\n",
    "    \n",
    "    data.update(temp)\n",
    "\n",
    "\n",
    "        \n",
    "\n"
   ]
  },
  {
   "cell_type": "code",
   "execution_count": null,
   "metadata": {},
   "outputs": [],
   "source": [
    "fill_cols=['comp1_rate','comp1_inv','comp1_rate_percent_diff',\n",
    "                'comp2_rate','comp2_inv','comp2_rate_percent_diff',\n",
    "                'comp3_rate','comp3_inv','comp3_rate_percent_diff',                \n",
    "                'comp4_rate','comp4_inv','comp4_rate_percent_diff',\n",
    "                'comp5_rate','comp5_inv','comp5_rate_percent_diff',\n",
    "                'comp6_rate','comp6_inv','comp6_rate_percent_diff',\n",
    "                'comp7_rate','comp7_inv','comp7_rate_percent_diff',\n",
    "                'comp8_rate','comp8_inv','comp8_rate_percent_diff',\n",
    "                'visitor_hist_starrating','visitor_hist_adr_usd','prop_review_score',\n",
    "                'prop_location_score2','srch_query_affinity_score','orig_destination_distance','gross_bookings_usd']\n",
    "\n",
    "for col in fill_cols:\n",
    "    Median_padding(data,col)\n"
   ]
  },
  {
   "cell_type": "markdown",
   "metadata": {},
   "source": [
    "feature engineering"
   ]
  },
  {
   "cell_type": "markdown",
   "metadata": {},
   "source": [
    "处理时间变量"
   ]
  },
  {
   "cell_type": "code",
   "execution_count": 16,
   "metadata": {},
   "outputs": [],
   "source": [
    "data['date_time'] = pd.to_datetime(data['date_time'])\n",
    "# 提取基本成分\n",
    "data['year'] = data['date_time'].dt.year\n",
    "data['month'] = data['date_time'].dt.month\n",
    "data['day'] = data['date_time'].dt.day\n",
    "data['hour'] = data['date_time'].dt.hour\n",
    "data['minute'] = data['date_time'].dt.minute\n",
    "data['second'] = data['date_time'].dt.second\n",
    "\n",
    "# 提取衍生特征\n",
    "data['day_of_week'] = data['date_time'].dt.dayofweek  # 星期几，0是周一，6是周日\n",
    "data['is_weekend'] = data['day_of_week'] >= 5  # 判断是否是周末\n",
    "data['quarter'] = data['date_time'].dt.quarter  # 季度"
   ]
  },
  {
   "cell_type": "markdown",
   "metadata": {},
   "source": [
    "处理布尔型变量"
   ]
  },
  {
   "cell_type": "code",
   "execution_count": 17,
   "metadata": {},
   "outputs": [],
   "source": [
    "for column in data.select_dtypes(include=['bool']):\n",
    "    data[column] = data[column].astype(int)"
   ]
  },
  {
   "cell_type": "markdown",
   "metadata": {},
   "source": [
    "处理浮点型变量"
   ]
  },
  {
   "cell_type": "code",
   "execution_count": 21,
   "metadata": {},
   "outputs": [],
   "source": [
    "# 标准化float变量\n",
    "scaler_standard = StandardScaler()\n",
    "data[data.select_dtypes(include=['float']).columns] = scaler_standard.fit_transform(data.select_dtypes(include=['float']))\n",
    "\n",
    "# 归一化float变量\n",
    "scaler_minmax = MinMaxScaler()\n",
    "data[data.select_dtypes(include=['float']).columns] = scaler_minmax.fit_transform(data.select_dtypes(include=['float']))\n"
   ]
  },
  {
   "cell_type": "markdown",
   "metadata": {},
   "source": []
  },
  {
   "cell_type": "code",
   "execution_count": 8,
   "metadata": {},
   "outputs": [
    {
     "name": "stdout",
     "output_type": "stream",
     "text": [
      "<class 'pandas.core.series.Series'>\n"
     ]
    }
   ],
   "source": []
  }
 ],
 "metadata": {
  "kernelspec": {
   "display_name": "Env1",
   "language": "python",
   "name": "python3"
  },
  "language_info": {
   "codemirror_mode": {
    "name": "ipython",
    "version": 3
   },
   "file_extension": ".py",
   "mimetype": "text/x-python",
   "name": "python",
   "nbconvert_exporter": "python",
   "pygments_lexer": "ipython3",
   "version": "3.10.13"
  }
 },
 "nbformat": 4,
 "nbformat_minor": 2
}
