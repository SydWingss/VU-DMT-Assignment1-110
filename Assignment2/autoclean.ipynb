{
 "cells": [
  {
   "cell_type": "code",
   "execution_count": 11,
   "metadata": {},
   "outputs": [],
   "source": [
    "import pandas as pd\n",
    "import datacleaner as dc\n",
    "from datasets import load_dataset"
   ]
  },
  {
   "cell_type": "code",
   "execution_count": 12,
   "metadata": {},
   "outputs": [],
   "source": [
    "data=pd.read_csv(\"https://huggingface.co/datasets/Looong/DMT_Assignment_2/resolve/main/training_set_VU_DM.csv\")\n",
    "df=pd.DataFrame(data)"
   ]
  },
  {
   "cell_type": "code",
   "execution_count": 13,
   "metadata": {},
   "outputs": [
    {
     "name": "stderr",
     "output_type": "stream",
     "text": [
      "/home/taoyida/miniconda3/envs/DMT/lib/python3.9/site-packages/datacleaner/datacleaner.py:77: FutureWarning: A value is trying to be set on a copy of a DataFrame or Series through chained assignment using an inplace method.\n",
      "The behavior will change in pandas 3.0. This inplace method will never work because the intermediate object on which we are setting values always behaves as a copy.\n",
      "\n",
      "For example, when doing 'df[col].method(value, inplace=True)', try using 'df.method({col: value}, inplace=True)' or df[col] = df[col].method(value) instead, to perform the operation inplace on the original object.\n",
      "\n",
      "\n",
      "  input_dataframe[column].fillna(input_dataframe[column].median(), inplace=True)\n",
      "/home/taoyida/miniconda3/envs/DMT/lib/python3.9/site-packages/datacleaner/datacleaner.py:77: FutureWarning: A value is trying to be set on a copy of a DataFrame or Series through chained assignment using an inplace method.\n",
      "The behavior will change in pandas 3.0. This inplace method will never work because the intermediate object on which we are setting values always behaves as a copy.\n",
      "\n",
      "For example, when doing 'df[col].method(value, inplace=True)', try using 'df.method({col: value}, inplace=True)' or df[col] = df[col].method(value) instead, to perform the operation inplace on the original object.\n",
      "\n",
      "\n",
      "  input_dataframe[column].fillna(input_dataframe[column].median(), inplace=True)\n"
     ]
    }
   ],
   "source": [
    "cleaned_data = dc.autoclean(data)"
   ]
  },
  {
   "cell_type": "code",
   "execution_count": 14,
   "metadata": {},
   "outputs": [],
   "source": [
    "missing_values = cleaned_data.isnull().sum()"
   ]
  },
  {
   "cell_type": "code",
   "execution_count": 17,
   "metadata": {},
   "outputs": [
    {
     "name": "stdout",
     "output_type": "stream",
     "text": [
      "   srch_id            date_time  site_id  visitor_location_country_id  \\\n",
      "0        1  2013-04-04 08:32:15       12                          187   \n",
      "1        1  2013-04-04 08:32:15       12                          187   \n",
      "2        1  2013-04-04 08:32:15       12                          187   \n",
      "3        1  2013-04-04 08:32:15       12                          187   \n",
      "4        1  2013-04-04 08:32:15       12                          187   \n",
      "5        1  2013-04-04 08:32:15       12                          187   \n",
      "6        1  2013-04-04 08:32:15       12                          187   \n",
      "7        1  2013-04-04 08:32:15       12                          187   \n",
      "8        1  2013-04-04 08:32:15       12                          187   \n",
      "9        1  2013-04-04 08:32:15       12                          187   \n",
      "\n",
      "   visitor_hist_starrating  visitor_hist_adr_usd  prop_country_id  prop_id  \\\n",
      "0                     3.45                152.24              219      893   \n",
      "1                     3.45                152.24              219    10404   \n",
      "2                     3.45                152.24              219    21315   \n",
      "3                     3.45                152.24              219    27348   \n",
      "4                     3.45                152.24              219    29604   \n",
      "5                     3.45                152.24              219    30184   \n",
      "6                     3.45                152.24              219    44147   \n",
      "7                     3.45                152.24              219    50984   \n",
      "8                     3.45                152.24              219    53341   \n",
      "9                     3.45                152.24              219    56880   \n",
      "\n",
      "   prop_starrating  prop_review_score  ...  comp6_rate_percent_diff  \\\n",
      "0                3                3.5  ...                     11.0   \n",
      "1                4                4.0  ...                     11.0   \n",
      "2                3                4.5  ...                     11.0   \n",
      "3                2                4.0  ...                     11.0   \n",
      "4                4                3.5  ...                     11.0   \n",
      "5                4                4.5  ...                     11.0   \n",
      "6                3                3.5  ...                     11.0   \n",
      "7                2                0.0  ...                     11.0   \n",
      "8                4                4.0  ...                     11.0   \n",
      "9                4                4.0  ...                     11.0   \n",
      "\n",
      "   comp7_rate  comp7_inv  comp7_rate_percent_diff  comp8_rate  comp8_inv  \\\n",
      "0         0.0        0.0                     12.0         0.0        0.0   \n",
      "1         0.0        0.0                     12.0         0.0        0.0   \n",
      "2         0.0        0.0                     12.0         0.0        0.0   \n",
      "3         0.0        0.0                     12.0        -1.0        0.0   \n",
      "4         0.0        0.0                     12.0         0.0        0.0   \n",
      "5         0.0        0.0                     12.0         0.0        0.0   \n",
      "6         0.0        0.0                     12.0         0.0        0.0   \n",
      "7         0.0        0.0                     12.0         0.0        0.0   \n",
      "8         0.0        0.0                     12.0         0.0        0.0   \n",
      "9         0.0        0.0                     12.0         0.0        0.0   \n",
      "\n",
      "   comp8_rate_percent_diff  click_bool  gross_bookings_usd  booking_bool  \n",
      "0                     11.0           0               218.4             0  \n",
      "1                     11.0           0               218.4             0  \n",
      "2                     11.0           0               218.4             0  \n",
      "3                      5.0           0               218.4             0  \n",
      "4                     11.0           0               218.4             0  \n",
      "5                      7.0           0               218.4             0  \n",
      "6                     11.0           0               218.4             0  \n",
      "7                     11.0           0               218.4             0  \n",
      "8                      6.0           0               218.4             0  \n",
      "9                     11.0           0               218.4             0  \n",
      "\n",
      "[10 rows x 54 columns]\n"
     ]
    }
   ],
   "source": [
    "print(df.head(10))"
   ]
  },
  {
   "cell_type": "code",
   "execution_count": 18,
   "metadata": {},
   "outputs": [],
   "source": [
    "df.to_csv('cleaned_training_set_VU_DM.csv', index=False)"
   ]
  },
  {
   "cell_type": "code",
   "execution_count": 19,
   "metadata": {},
   "outputs": [
    {
     "name": "stderr",
     "output_type": "stream",
     "text": [
      "/home/taoyida/miniconda3/envs/DMT/lib/python3.9/site-packages/datacleaner/datacleaner.py:77: FutureWarning: A value is trying to be set on a copy of a DataFrame or Series through chained assignment using an inplace method.\n",
      "The behavior will change in pandas 3.0. This inplace method will never work because the intermediate object on which we are setting values always behaves as a copy.\n",
      "\n",
      "For example, when doing 'df[col].method(value, inplace=True)', try using 'df.method({col: value}, inplace=True)' or df[col] = df[col].method(value) instead, to perform the operation inplace on the original object.\n",
      "\n",
      "\n",
      "  input_dataframe[column].fillna(input_dataframe[column].median(), inplace=True)\n",
      "/home/taoyida/miniconda3/envs/DMT/lib/python3.9/site-packages/datacleaner/datacleaner.py:77: FutureWarning: A value is trying to be set on a copy of a DataFrame or Series through chained assignment using an inplace method.\n",
      "The behavior will change in pandas 3.0. This inplace method will never work because the intermediate object on which we are setting values always behaves as a copy.\n",
      "\n",
      "For example, when doing 'df[col].method(value, inplace=True)', try using 'df.method({col: value}, inplace=True)' or df[col] = df[col].method(value) instead, to perform the operation inplace on the original object.\n",
      "\n",
      "\n",
      "  input_dataframe[column].fillna(input_dataframe[column].median(), inplace=True)\n"
     ]
    },
    {
     "name": "stdout",
     "output_type": "stream",
     "text": [
      "   srch_id            date_time  site_id  visitor_location_country_id  \\\n",
      "0        1  2013-02-02 15:27:40       24                          216   \n",
      "1        1  2013-02-02 15:27:40       24                          216   \n",
      "2        1  2013-02-02 15:27:40       24                          216   \n",
      "3        1  2013-02-02 15:27:40       24                          216   \n",
      "4        1  2013-02-02 15:27:40       24                          216   \n",
      "5        1  2013-02-02 15:27:40       24                          216   \n",
      "6        1  2013-02-02 15:27:40       24                          216   \n",
      "7        1  2013-02-02 15:27:40       24                          216   \n",
      "8        1  2013-02-02 15:27:40       24                          216   \n",
      "9        1  2013-02-02 15:27:40       24                          216   \n",
      "\n",
      "   visitor_hist_starrating  visitor_hist_adr_usd  prop_country_id  prop_id  \\\n",
      "0                     3.43                151.39              219     3180   \n",
      "1                     3.43                151.39              219     5543   \n",
      "2                     3.43                151.39              219    14142   \n",
      "3                     3.43                151.39              219    22393   \n",
      "4                     3.43                151.39              219    24194   \n",
      "5                     3.43                151.39              219    28181   \n",
      "6                     3.43                151.39              219    34263   \n",
      "7                     3.43                151.39              219    37567   \n",
      "8                     3.43                151.39              219    50162   \n",
      "9                     3.43                151.39              219    54937   \n",
      "\n",
      "   prop_starrating  prop_review_score  ...  comp5_rate_percent_diff  \\\n",
      "0                3                4.5  ...                     12.0   \n",
      "1                3                4.5  ...                     12.0   \n",
      "2                2                3.5  ...                     10.0   \n",
      "3                3                4.5  ...                     12.0   \n",
      "4                3                4.5  ...                     12.0   \n",
      "5                3                4.5  ...                     12.0   \n",
      "6                3                4.5  ...                      6.0   \n",
      "7                2                4.5  ...                     27.0   \n",
      "8                2                3.5  ...                     12.0   \n",
      "9                3                4.0  ...                     12.0   \n",
      "\n",
      "   comp6_rate  comp6_inv  comp6_rate_percent_diff  comp7_rate  comp7_inv  \\\n",
      "0         0.0        0.0                     11.0         0.0        0.0   \n",
      "1         0.0        0.0                     11.0         0.0        0.0   \n",
      "2         0.0        0.0                     11.0         0.0        0.0   \n",
      "3         0.0        0.0                     11.0         0.0        0.0   \n",
      "4         0.0        0.0                     11.0         0.0        0.0   \n",
      "5         0.0        0.0                     11.0         0.0        0.0   \n",
      "6         0.0        0.0                     11.0         0.0        0.0   \n",
      "7         0.0        0.0                     11.0         0.0        0.0   \n",
      "8         0.0        0.0                     11.0         0.0        0.0   \n",
      "9         0.0        0.0                     11.0         0.0        0.0   \n",
      "\n",
      "   comp7_rate_percent_diff  comp8_rate  comp8_inv  comp8_rate_percent_diff  \n",
      "0                     12.0         0.0        0.0                     11.0  \n",
      "1                     12.0         0.0        0.0                     11.0  \n",
      "2                     12.0         0.0        0.0                     11.0  \n",
      "3                     12.0         0.0        0.0                     11.0  \n",
      "4                     12.0         0.0        0.0                     11.0  \n",
      "5                     12.0         0.0        0.0                     11.0  \n",
      "6                     12.0         0.0        0.0                     11.0  \n",
      "7                     12.0         0.0        0.0                     11.0  \n",
      "8                     12.0         0.0        0.0                     11.0  \n",
      "9                     12.0         0.0        0.0                     11.0  \n",
      "\n",
      "[10 rows x 50 columns]\n"
     ]
    }
   ],
   "source": [
    "test_data=pd.read_csv(\"https://huggingface.co/datasets/Looong/DMT_Assignment_2/resolve/main/test_set_VU_DM.csv\")\n",
    "df_test=pd.DataFrame(test_data)\n",
    "cleaned_test_data = dc.autoclean(test_data)\n",
    "missing_values_test = cleaned_test_data.isnull().sum()\n",
    "print(df_test.head(10))\n",
    "df_test.to_csv('cleaned_test_set_VU_DM.csv', index=False)"
   ]
  }
 ],
 "metadata": {
  "kernelspec": {
   "display_name": "DMT",
   "language": "python",
   "name": "python3"
  },
  "language_info": {
   "codemirror_mode": {
    "name": "ipython",
    "version": 3
   },
   "file_extension": ".py",
   "mimetype": "text/x-python",
   "name": "python",
   "nbconvert_exporter": "python",
   "pygments_lexer": "ipython3",
   "version": "3.9.19"
  }
 },
 "nbformat": 4,
 "nbformat_minor": 2
}
